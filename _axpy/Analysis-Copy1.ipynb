{
 "cells": [
  {
   "cell_type": "code",
   "execution_count": 7,
   "id": "799123b1",
   "metadata": {},
   "outputs": [
    {
     "name": "stdout",
     "output_type": "stream",
     "text": [
      "/usr/bin/python3\n"
     ]
    }
   ],
   "source": [
    "import sys\n",
    "print(sys.executable)\n",
    "import pandas as pd"
   ]
  },
  {
   "cell_type": "code",
   "execution_count": null,
   "id": "826eaae1",
   "metadata": {},
   "outputs": [],
   "source": []
  },
  {
   "cell_type": "code",
   "execution_count": 11,
   "id": "bff3c801",
   "metadata": {},
   "outputs": [
    {
     "name": "stdout",
     "output_type": "stream",
     "text": [
      "Hello World\n",
      "/home/kimura/work/sniper/sniper-docker-env/vector_benches/rivec1.0_llvm16/_axpy\n"
     ]
    }
   ],
   "source": [
    "print(\"Hello World\")\n",
    "import os\n",
    "path = os.getcwd()\n",
    "print(path)"
   ]
  },
  {
   "cell_type": "code",
   "execution_count": 39,
   "id": "abe332c9",
   "metadata": {},
   "outputs": [
    {
     "name": "stdout",
     "output_type": "stream",
     "text": [
      "                                     name        value\n",
      "1                   Branch_Predictor-Area    0.0207334\n",
      "2            Branch_Predictor-GateLeakage  8.15115e-06\n",
      "3            Branch_Predictor-PeakDynamic    0.0133956\n",
      "4         Branch_Predictor-RuntimeDynamic  0.000890157\n",
      "5    Branch_Predictor-SubthresholdLeakage  0.000616727\n",
      "..                                    ...          ...\n",
      "213                        Total_L3s-Area      3.73689\n",
      "214                 Total_L3s-GateLeakage  3.42427e-05\n",
      "215                 Total_L3s-PeakDynamic     0.166074\n",
      "216              Total_L3s-RuntimeDynamic  4.98822e-08\n",
      "217         Total_L3s-SubthresholdLeakage  2.43565e-05\n",
      "\n",
      "[217 rows x 2 columns]\n"
     ]
    }
   ],
   "source": [
    "scalar_result = pd.read_csv(\"ooo.s/scalar_ooo/sim.stats.mcpat.output.csv\", header=None).T.dropna()\n",
    "scalar_result.columns=[\"name\", \"value\"]\n",
    "print(scalar_result)"
   ]
  },
  {
   "cell_type": "code",
   "execution_count": 152,
   "id": "bc087d88",
   "metadata": {},
   "outputs": [],
   "source": [
    "import glob\n",
    "csv_files = glob.glob('vio.v.v128_d128/scalar_ooo/sim.stats.mcpat.output.csv')\n",
    "\n",
    "csv_data = dict()\n",
    "csv_data['s_ooo'] = pd.read_csv('vio.v.v128_d128/scalar_ooo/sim.stats.mcpat.output.csv',    header=None).T.dropna()\n",
    "csv_data['s_ooo'].columns=['name', 'value']\n",
    "\n",
    "csv_data['s_ino'] = pd.read_csv('vio.v.v128_d128/scalar_ino/sim.stats.mcpat.output.csv',    header=None).T.dropna()\n",
    "csv_data['s_ino'].columns=['name', 'value']\n",
    "\n",
    "csv_data['v_ooo']  = pd.read_csv('vio.v.v128_d128/vec_ooo/sim.stats.mcpat.output.csv',       header=None).T.dropna()\n",
    "csv_data['v_ooo'].columns=['name', 'value']\n",
    "\n",
    "csv_data['v_ino']  = pd.read_csv('vio.v.v128_d128/vec_ino/sim.stats.mcpat.output.csv',       header=None).T.dropna()\n",
    "csv_data['v_ino'].columns=['name', 'value']\n",
    "\n",
    "csv_data['v_to_s'] = pd.read_csv('vio.v.v128_d128/vec_to_scalar/sim.stats.mcpat.output.csv', header=None).T.dropna()\n",
    "csv_data['v_to_s'].columns=['name', 'value']\n",
    "\n",
    "csv_data['s_to_v'] = pd.read_csv('vio.v.v128_d128/scalar_to_vec/sim.stats.mcpat.output.csv', header=None).T.dropna()\n",
    "csv_data['s_to_v'].columns=['name', 'value']\n"
   ]
  },
  {
   "cell_type": "code",
   "execution_count": 154,
   "id": "bdaa6ca9",
   "metadata": {},
   "outputs": [],
   "source": [
    "e_elem = dict()\n",
    "e_elem['vio_fence'] = dict()\n",
    "e_elem['vio_fence']['fetch']  = ['s_ooo:Instruction_Fetch_Unit']\n",
    "e_elem['vio_fence']['rename'] = ['s_ooo:Renaming_Unit']\n",
    "e_elem['vio_fence']['s_exe']  = ['s_ooo:Floating_Point_Units__FPUs___Count', \n",
    "                                 's_ooo:Integer_ALUs__Count', \n",
    "                                 's_ooo:Results_Broadcast_Bus', \n",
    "                                 's_ooo:Register_Files']\n",
    "e_elem['vio_fence']['v_exe']  = ['v_ooo:Floating_Point_Units__FPUs___Count', \n",
    "                                 'v_ooo:Results_Broadcast_Bus', \n",
    "                                 'v_ooo:Register_Files']\n",
    "e_elem['vio_fence']['s_lsq'] = []\n",
    "e_elem['vio_fence']['v_lsq'] = []\n",
    "e_elem['vio_fence']['dcache'] = ['s_ooo:Data_Cache']\n",
    "\n",
    "e_elem['vio_proposal'] = dict()\n",
    "e_elem['vio_proposal']['fetch']  = ['s_ooo:Instruction_Fetch_Unit']\n",
    "e_elem['vio_proposal']['rename'] = ['s_ooo:Renaming_Unit']\n",
    "e_elem['vio_proposal']['s_exe']  = ['s_ooo:Floating_Point_Units__FPUs___Count', \n",
    "                                 's_ooo:Integer_ALUs__Count', \n",
    "                                 's_ooo:Results_Broadcast_Bus', \n",
    "                                 's_ooo:Register_Files']\n",
    "e_elem['vio_proposal']['v_exe']  = ['v_ooo:Floating_Point_Units__FPUs___Count', \n",
    "                                 'v_ooo:Results_Broadcast_Bus', \n",
    "                                 'v_ooo:Register_Files']\n",
    "e_elem['vio_proposal']['s_lsq'] = ['s_ooo:LoadQ', 's_ooo:StoreQ']\n",
    "e_elem['vio_proposal']['v_lsq'] = []\n",
    "e_elem['vio_proposal']['dcache'] = ['s_ooo:Data_Cache']\n",
    "\n",
    "e_elem['all_ooo'] = dict()\n",
    "e_elem['all_ooo']['fetch']  = ['s_ooo:Instruction_Fetch_Unit']\n",
    "e_elem['all_ooo']['rename'] = ['s_ooo:Renaming_Unit', \n",
    "                              'v_ooo:Renaming_Unit']\n",
    "e_elem['all_ooo']['s_exe']  = ['s_ooo:Floating_Point_Units__FPUs___Count', \n",
    "                                 's_ooo:Integer_ALUs__Count', \n",
    "                                 's_ooo:Results_Broadcast_Bus', \n",
    "                                 's_ooo:Register_Files']\n",
    "e_elem['all_ooo']['v_exe']  = ['v_ooo:Floating_Point_Units__FPUs___Count', \n",
    "                                 'v_ooo:Results_Broadcast_Bus', \n",
    "                                 'v_ooo:Register_Files']\n",
    "e_elem['all_ooo']['s_lsq'] = ['s_ooo:LoadQ', 's_ooo:StoreQ']\n",
    "e_elem['all_ooo']['v_lsq'] = ['v_ooo:LoadQ', 'v_ooo:StoreQ']\n",
    "e_elem['all_ooo']['dcache'] = ['s_ooo:Data_Cache']"
   ]
  },
  {
   "cell_type": "code",
   "execution_count": 153,
   "id": "3e654a3d",
   "metadata": {},
   "outputs": [
    {
     "data": {
      "text/plain": [
       "<Axes: >"
      ]
     },
     "execution_count": 153,
     "metadata": {},
     "output_type": "execute_result"
    },
    {
     "data": {
      "image/png": "[encoded data removed]",
      "text/plain": [
       "<Figure size 400x300 with 1 Axes>"
      ]
     },
     "metadata": {},
     "output_type": "display_data"
    }
   ],
   "source": [
    "graph_dict = dict()\n",
    "\n",
    "for e in e_elem:\n",
    "    graph_dict[e] = dict()\n",
    "    for p in e_elem[e]:\n",
    "        power = 0\n",
    "        for m in e_elem[e][p] :\n",
    "            (conf, module) = m.split(':')\n",
    "            area = csv_data[conf][csv_data[conf]['name'].str.contains(module + '-Area')].iloc[0]['value']\n",
    "            power = power + float(area)\n",
    "        graph_dict[e][p] = power\n",
    "    \n",
    "graph_pd = pd.DataFrame(graph_dict).T\n",
    "\n",
    "graph_pd.plot.bar(figsize=(4,3), stacked=True, cmap='Blues')"
   ]
  },
  {
   "cell_type": "code",
   "execution_count": 238,
   "id": "c195e353",
   "metadata": {},
   "outputs": [],
   "source": [
    "import sqlite3\n",
    "\n",
    "def get_result(conf, vlen, dlen):\n",
    "    sql3_conn = sqlite3.connect('%s.v%s_d%s/sim.stats.sqlite3' % (conf, vlen, dlen))\n",
    "    time_by_core0_index = sql3_conn.execute(\"SELECT * FROM 'names' WHERE objectname='thread' AND metricname='time_by_core[0]'\").fetchall()[0][0]\n",
    "    roi_begin_index = sql3_conn.execute(\"SELECT * FROM 'prefixes' WHERE prefixname='roi-begin'\").fetchall()[0][0]\n",
    "    roi_end_index = sql3_conn.execute(\"SELECT * FROM 'prefixes' WHERE prefixname='roi-end'\").fetchall()[0][0]\n",
    "    \n",
    "    start_time = sql3_conn.execute(\"SELECT * FROM 'values' WHERE prefixid='%s' AND nameid='%s'\" \\\n",
    "                    % (roi_begin_index, time_by_core0_index)).fetchall()[0][3]\n",
    "    stop_time = sql3_conn.execute(\"SELECT * FROM 'values' WHERE prefixid='%s' AND nameid='%s'\" \\\n",
    "                    % (roi_end_index, time_by_core0_index)).fetchall()[0][3]\n",
    "    cycle = stop_time - start_time\n",
    "    return cycle"
   ]
  },
  {
   "cell_type": "code",
   "execution_count": 250,
   "id": "416e2a94",
   "metadata": {},
   "outputs": [
    {
     "name": "stdout",
     "output_type": "stream",
     "text": [
      "[16787000000, 29739000000, 32867500000, 29739000000]\n",
      "[1.0, 0.5644776219778742, 0.5107476990948505, 0.5644776219778742]\n",
      "[26658500000, 30609000000, 30615500000, 30609000000]\n",
      "[1.0, 0.8709366526185109, 0.870751743397952, 0.8709366526185109]\n",
      "[9791500000, 13648000000, 14431500000, 13648000000]\n",
      "[1.0, 0.7174311254396248, 0.6784811003707168, 0.7174311254396248]\n"
     ]
    }
   ],
   "source": [
    "reg_conf = [[128, 128], [512, 128], [512, 512]]  # VLEN, DLEN\n",
    "pipe_conf = ['ooo.v', 'vio.v', 'vio.v.fence', 'vio.v.ngs']\n",
    "for r in reg_conf:\n",
    "    conf_cycle = []\n",
    "    for p in pipe_conf:\n",
    "        conf_cycle.append(get_result(p, r[0], r[1]))\n",
    "    print(conf_cycle)\n",
    "    print(list(map(lambda e: min(conf_cycle) / e, conf_cycle)))"
   ]
  },
  {
   "cell_type": "code",
   "execution_count": null,
   "id": "188aa6a4",
   "metadata": {},
   "outputs": [],
   "source": []
  }
 ],
 "metadata": {
  "kernelspec": {
   "display_name": "Python 3 (ipykernel)",
   "language": "python",
   "name": "python3"
  },
  "language_info": {
   "codemirror_mode": {
    "name": "ipython",
    "version": 3
   },
   "file_extension": ".py",
   "mimetype": "text/x-python",
   "name": "python",
   "nbconvert_exporter": "python",
   "pygments_lexer": "ipython3",
   "version": "3.10.6"
  }
 },
 "nbformat": 4,
 "nbformat_minor": 5
}
